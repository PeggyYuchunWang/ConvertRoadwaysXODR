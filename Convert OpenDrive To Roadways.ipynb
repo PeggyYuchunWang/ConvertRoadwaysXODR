{
 "cells": [
  {
   "cell_type": "code",
   "execution_count": 13,
   "metadata": {},
   "outputs": [],
   "source": [
    "using PyCall\n",
    "using AutomotiveSimulator\n",
    "using AutomotiveVisualization"
   ]
  },
  {
   "cell_type": "code",
   "execution_count": 2,
   "metadata": {},
   "outputs": [
    {
     "data": {
      "text/plain": [
       "PyObject <module 'src.open_drive_roadways' from '/Users/pegasus/Documents/Classes/FordSISLResearch/CarlaProject/src/open_drive_roadways.py'>"
      ]
     },
     "execution_count": 2,
     "metadata": {},
     "output_type": "execute_result"
    }
   ],
   "source": [
    "# read from current directory\n",
    "pushfirst!(PyVector(pyimport(\"sys\").\"path\"), \"\")\n",
    "sys = pyimport(\"sys\")\n",
    "openDriveParser = pyimport(\"src.open_drive_parser\")\n",
    "openDriveRoadways = pyimport(\"src.open_drive_roadways\")"
   ]
  },
  {
   "cell_type": "code",
   "execution_count": 3,
   "metadata": {},
   "outputs": [
    {
     "data": {
      "text/plain": [
       "PyObject <src.open_drive_parser.OpenDriveParser object at 0x1327fee80>"
      ]
     },
     "execution_count": 3,
     "metadata": {},
     "output_type": "execute_result"
    }
   ],
   "source": [
    "odp = openDriveParser.OpenDriveParser()"
   ]
  },
  {
   "cell_type": "code",
   "execution_count": 41,
   "metadata": {},
   "outputs": [
    {
     "name": "stdout",
     "output_type": "stream",
     "text": [
      "PyObject <src.open_drive_roadways.Lanes object at 0x14110e160>\n"
     ]
    }
   ],
   "source": [
    "odp.parse_file(\"test_data/OpenDriveExs/Ex_SingleLane.xodr\")\n",
    "println(odp.data.roads[1].lanes)"
   ]
  },
  {
   "cell_type": "code",
   "execution_count": 27,
   "metadata": {},
   "outputs": [],
   "source": [
    "AutomotiveVisualization.colortheme[\"background\"] = colorant\"white\"; # hide"
   ]
  },
  {
   "cell_type": "code",
   "execution_count": 28,
   "metadata": {},
   "outputs": [
    {
     "data": {
      "text/plain": [
       "Roadway"
      ]
     },
     "execution_count": 28,
     "metadata": {},
     "output_type": "execute_result"
    }
   ],
   "source": [
    "roadway = gen_straight_roadway(2, 200.0)  # 200m long straight roadway with 2 lanes"
   ]
  },
  {
   "cell_type": "code",
   "execution_count": 29,
   "metadata": {},
   "outputs": [
    {
     "data": {
      "image/png": "[encoded data removed]",
      "text/plain": [
       "Cairo.CairoSurfaceIOStream{UInt32}(Ptr{Nothing} @0x00007ffd022b72e0, 1000.0, 100.0, IOBuffer(data=UInt8[...], readable=true, writable=true, seekable=true, append=false, size=0, maxsize=Inf, ptr=1, mark=-1))"
      ]
     },
     "execution_count": 29,
     "metadata": {},
     "output_type": "execute_result"
    }
   ],
   "source": [
    "camera = StaticCamera(position=VecE2(100,0.0), zoom=5, canvas_height=100)\n",
    "snapshot = render([roadway], camera=camera)"
   ]
  },
  {
   "cell_type": "code",
   "execution_count": 30,
   "metadata": {},
   "outputs": [
    {
     "name": "stdout",
     "output_type": "stream",
     "text": [
      "id: 1\n",
      "road: PyObject <src.open_drive_roadways.Road object at 0x141108710>\n",
      "length: 50.0\n",
      "sect s 0.0\n",
      "left 1 PyObject <src.open_drive_roadways.Lane object at 0x141108e48>\n",
      "mid 0 PyObject <src.open_drive_roadways.Lane object at 0x1410fd160>\n",
      "right -1 PyObject <src.open_drive_roadways.Lane object at 0x1410fd7f0>\n",
      "Set(Any[0, -1, 1])\n",
      "3\n"
     ]
    }
   ],
   "source": [
    "for (i, r) in odp.data.roads\n",
    "    println(\"id: \", i)\n",
    "    println(\"road: \", r)\n",
    "    println(\"length: \", r.length)\n",
    "    laneIds = Set()\n",
    "    for off in r.lanes.laneOffset\n",
    "        println(\"offset \", off)\n",
    "    end\n",
    "    for sect in r.lanes.laneSection\n",
    "        println(\"sect s \", sect.s)\n",
    "        for (id, lane) in sect.left\n",
    "            println(\"left \", id, \" \", lane)\n",
    "            push!(laneIds, id)\n",
    "        end\n",
    "        for (id, lane) in sect.center\n",
    "            println(\"mid \", id, \" \", lane)\n",
    "            push!(laneIds, id)\n",
    "        end\n",
    "        for (id, lane) in sect.right\n",
    "            println(\"right \", id, \" \", lane)\n",
    "            push!(laneIds, id)\n",
    "        end\n",
    "    end\n",
    "    println(laneIds)\n",
    "    numLanes = length(laneIds)\n",
    "    println(numLanes)\n",
    "    global simple = gen_straight_roadway(numLanes, r.length)\n",
    "end"
   ]
  },
  {
   "cell_type": "code",
   "execution_count": 31,
   "metadata": {},
   "outputs": [
    {
     "data": {
      "image/png": "[encoded data removed]",
      "text/plain": [
       "Cairo.CairoSurfaceIOStream{UInt32}(Ptr{Nothing} @0x00007ffd013b4590, 1000.0, 100.0, IOBuffer(data=UInt8[...], readable=true, writable=true, seekable=true, append=false, size=0, maxsize=Inf, ptr=1, mark=-1))"
      ]
     },
     "execution_count": 31,
     "metadata": {},
     "output_type": "execute_result"
    }
   ],
   "source": [
    "camera = StaticCamera(position=VecE2(100.0,0.0), zoom=5, canvas_height=100)\n",
    "snapshot = render([simple], camera=camera)"
   ]
  },
  {
   "cell_type": "code",
   "execution_count": 81,
   "metadata": {},
   "outputs": [
    {
     "name": "stdout",
     "output_type": "stream",
     "text": [
      "0\n",
      "id: 1\n",
      "road: PyObject <src.open_drive_roadways.Road object at 0x1410eff60>\n",
      "length: 50.0\n",
      "geo: true\n",
      "sect s 0.0\n",
      "right -1 PyObject <src.open_drive_roadways.Lane object at 0x1410fdba8>\n",
      "width: 3.25\n",
      "left 1 PyObject <src.open_drive_roadways.Lane object at 0x14110e390>\n",
      "width: 3.25\n",
      "Lane{Float64}[Lane{Float64}(LaneTag(-1, 1), CurvePt{Float64}[CurvePt({0.000, -1.000, 0.000}, 0.000, NaN, NaN), CurvePt({50.000, -1.000, 0.000}, 50.000, NaN, NaN)], 3.25, SpeedLimit(-Inf, Inf), LaneBoundary(:unknown, :unknown), LaneBoundary(:unknown, :unknown), LaneConnection{Int64,Float64}[], LaneConnection{Int64,Float64}[]), Lane{Float64}(LaneTag(1, 2), CurvePt{Float64}[CurvePt({0.000, 1.000, 0.000}, 0.000, NaN, NaN), CurvePt({50.000, 1.000, 0.000}, 50.000, NaN, NaN)], 3.25, SpeedLimit(-Inf, Inf), LaneBoundary(:unknown, :unknown), LaneBoundary(:unknown, :unknown), LaneConnection{Int64,Float64}[], LaneConnection{Int64,Float64}[])]\n",
      "laneindex: 2\n",
      "Set(Any[-1, 1])\n"
     ]
    }
   ],
   "source": [
    "# array 1-indexing, gen_straight_segment\n",
    "# TODO: sort roads and lanes by predecessor/successor\n",
    "rw = Roadway()\n",
    "for (i, r) in odp.data.roads\n",
    "    roadseg = RoadSegment{Float64}(i)\n",
    "    println(length(roadseg.lanes))\n",
    "    println(\"id: \", i)\n",
    "    println(\"road: \", r)\n",
    "    println(\"length: \", r.length)\n",
    "    println(\"geo: \", r.planView[1].type_name == \"line\")\n",
    "    laneIds = Set()\n",
    "    origin = VecSE2(0.0,0.0,0.0)\n",
    "    for sect in r.lanes.laneSection\n",
    "        println(\"sect s \", sect.s)\n",
    "        centerWidth = sect.center[0].roadMark.width\n",
    "        laneindex = length(roadseg.lanes)\n",
    "        # println(laneindex)\n",
    "        for (id, lane) in sect.right\n",
    "            if lane.type == \"driving\"\n",
    "                println(\"right \", id, \" \", lane)\n",
    "                println(\"width: \", lane.width.a)\n",
    "                push!(laneIds, id)\n",
    "                tag = LaneTag(id,laneindex+1)\n",
    "                laneindex += 1\n",
    "                # don't really get the curvepts thingy in AS\n",
    "                curvepts = Array{CurvePt{Float64}}(undef, 2)\n",
    "                y = -1.0\n",
    "                curvepts[1] = CurvePt(body2inertial(VecSE2(0.0,y,0.0), origin), 0.0)\n",
    "                curvepts[2] = CurvePt(body2inertial(VecSE2(r.length,y,0.0), origin), r.length)\n",
    "                push!(roadseg.lanes, Lane(tag, curvepts, width=lane.width.a))\n",
    "                # println(roadseg.lanes)\n",
    "                # roadseg.lanes[laneindex] = Lane(tag, curvepts, width=lane.width.a)\n",
    "            end\n",
    "        end\n",
    "        for (id, lane) in sect.left\n",
    "            if lane.type == \"driving\"\n",
    "                println(\"left \", id, \" \", lane)\n",
    "                println(\"width: \", lane.width.a)\n",
    "                push!(laneIds, id)\n",
    "                tag = LaneTag(id,laneindex+1)\n",
    "                laneindex += 1\n",
    "                curvepts = Array{CurvePt{Float64}}(undef, 2)\n",
    "                y = 1.0\n",
    "                curvepts[1] = CurvePt(body2inertial(VecSE2(0.0,y,0.0), origin), 0.0)\n",
    "                curvepts[2] = CurvePt(body2inertial(VecSE2(r.length,y,0.0), origin), r.length)\n",
    "                push!(roadseg.lanes, Lane(tag, curvepts, width=lane.width.a))\n",
    "                # println(roadseg.lanes)\n",
    "            end\n",
    "        end\n",
    "        println(roadseg.lanes)\n",
    "    println(\"laneindex: \", laneindex)\n",
    "    println(laneIds)\n",
    "    numLanes = length(laneIds)\n",
    "    push!(rw.segments, roadseg)\n",
    "    end\n",
    "end"
   ]
  },
  {
   "cell_type": "code",
   "execution_count": 86,
   "metadata": {},
   "outputs": [
    {
     "data": {
      "image/png": "[encoded data removed]",
      "text/plain": [
       "Cairo.CairoSurfaceIOStream{UInt32}(Ptr{Nothing} @0x00007ffd02032290, 1000.0, 200.0, IOBuffer(data=UInt8[...], readable=true, writable=true, seekable=true, append=false, size=0, maxsize=Inf, ptr=1, mark=-1))"
      ]
     },
     "execution_count": 86,
     "metadata": {},
     "output_type": "execute_result"
    }
   ],
   "source": [
    "camera = StaticCamera(position=VecE2(10.0,0.0), zoom=10, canvas_height=200)\n",
    "snapshot = render([rw], camera=camera)"
   ]
  },
  {
   "cell_type": "code",
   "execution_count": null,
   "metadata": {},
   "outputs": [],
   "source": []
  }
 ],
 "metadata": {
  "@webio": {
   "lastCommId": null,
   "lastKernelId": null
  },
  "kernelspec": {
   "display_name": "Julia 1.4.0",
   "language": "julia",
   "name": "julia-1.4"
  },
  "language_info": {
   "file_extension": ".jl",
   "mimetype": "application/julia",
   "name": "julia",
   "version": "1.4.0"
  }
 },
 "nbformat": 4,
 "nbformat_minor": 4
}
