{
 "cells": [
  {
   "cell_type": "code",
   "execution_count": 10,
   "metadata": {},
   "outputs": [],
   "source": [
    "using PyCall\n",
    "using AutomotiveSimulator\n",
    "using AutomotiveVisualization"
   ]
  },
  {
   "cell_type": "code",
   "execution_count": 12,
   "metadata": {},
   "outputs": [
    {
     "data": {
      "text/plain": [
       "PyObject <module 'src.open_drive_roadways' from '/Users/pegasus/Documents/Classes/FordSISLResearch/CarlaProject/src/open_drive_roadways.py'>"
      ]
     },
     "execution_count": 12,
     "metadata": {},
     "output_type": "execute_result"
    }
   ],
   "source": [
    "# read from current directory\n",
    "pushfirst!(PyVector(pyimport(\"sys\").\"path\"), \"\")\n",
    "sys = pyimport(\"sys\")\n",
    "openDriveParser = pyimport(\"src.open_drive_parser\")\n",
    "openDriveRoadways = pyimport(\"src.open_drive_roadways\")"
   ]
  },
  {
   "cell_type": "code",
   "execution_count": 13,
   "metadata": {},
   "outputs": [
    {
     "data": {
      "text/plain": [
       "PyObject <src.open_drive_parser.OpenDriveParser object at 0x136980e48>"
      ]
     },
     "execution_count": 13,
     "metadata": {},
     "output_type": "execute_result"
    }
   ],
   "source": [
    "odp = openDriveParser.OpenDriveParser()"
   ]
  },
  {
   "cell_type": "code",
   "execution_count": 14,
   "metadata": {},
   "outputs": [
    {
     "name": "stdout",
     "output_type": "stream",
     "text": [
      "PyObject <src.open_drive_roadways.Road object at 0x14b186c50>\n"
     ]
    }
   ],
   "source": [
    "odp.parse_file(\"test_data/OpenDriveExs/Ex_Lane-Width.xodr\")\n",
    "println(odp.data.roads[1].lanes)"
   ]
  },
  {
   "cell_type": "code",
   "execution_count": 56,
   "metadata": {},
   "outputs": [],
   "source": [
    "AutomotiveVisualization.colortheme[\"background\"] = colorant\"white\"; # hide"
   ]
  },
  {
   "cell_type": "code",
   "execution_count": 57,
   "metadata": {},
   "outputs": [
    {
     "data": {
      "text/plain": [
       "Roadway"
      ]
     },
     "execution_count": 57,
     "metadata": {},
     "output_type": "execute_result"
    }
   ],
   "source": [
    "roadway = gen_straight_roadway(4, 100.0)  # 100m long straight roadway with 4 lane"
   ]
  },
  {
   "cell_type": "code",
   "execution_count": 70,
   "metadata": {},
   "outputs": [
    {
     "data": {
      "image/png": "[encoded data removed]",
      "text/plain": [
       "Cairo.CairoSurfaceIOStream{UInt32}(Ptr{Nothing} @0x00007fca5caf05f0, 1000.0, 100.0, IOBuffer(data=UInt8[...], readable=true, writable=true, seekable=true, append=false, size=0, maxsize=Inf, ptr=1, mark=-1))"
      ]
     },
     "execution_count": 70,
     "metadata": {},
     "output_type": "execute_result"
    }
   ],
   "source": [
    "camera = StaticCamera(position=VecE2(200,0.0), zoom=5, canvas_height=100)\n",
    "snapshot = render([roadway], camera=camera)"
   ]
  },
  {
   "cell_type": "code",
   "execution_count": 61,
   "metadata": {},
   "outputs": [
    {
     "name": "stdout",
     "output_type": "stream",
     "text": [
      "id: 1\n",
      "road: PyObject <src.open_drive_roadways.Road object at 0x14b186c50>\n",
      "length: 100.0\n",
      "sect s 0.0\n",
      "left 1 PyObject <src.open_drive_roadways.Lane object at 0x14b191400>\n",
      "mid 0 PyObject <src.open_drive_roadways.Lane object at 0x14b191550>\n",
      "right -2 PyObject <src.open_drive_roadways.Lane object at 0x14b191320>\n",
      "right -1 PyObject <src.open_drive_roadways.Lane object at 0x14b191470>\n",
      "sect s 50.0\n",
      "left 1 PyObject <src.open_drive_roadways.Lane object at 0x14b191630>\n",
      "mid 0 PyObject <src.open_drive_roadways.Lane object at 0x14b191780>\n",
      "right -2 PyObject <src.open_drive_roadways.Lane object at 0x14b1915c0>\n",
      "right -1 PyObject <src.open_drive_roadways.Lane object at 0x14b1916a0>\n",
      "Set(Any[0, -2, -1, 1])\n",
      "4\n"
     ]
    }
   ],
   "source": [
    "for (i, r) in odp.data.roads\n",
    "    println(\"id: \", i)\n",
    "    println(\"road: \", r)\n",
    "    println(\"length: \", r.length)\n",
    "    laneIds = Set()\n",
    "    for off in r.lanes.laneOffset\n",
    "        println(\"offset \", off)\n",
    "    end\n",
    "    for sect in r.lanes.laneSection\n",
    "        println(\"sect s \", sect.s)\n",
    "        for (id, lane) in sect.left\n",
    "            println(\"left \", id, \" \", lane)\n",
    "            push!(laneIds, id)\n",
    "        end\n",
    "        for (id, lane) in sect.center\n",
    "            println(\"mid \", id, \" \", lane)\n",
    "            push!(laneIds, id)\n",
    "        end\n",
    "        for (id, lane) in sect.right\n",
    "            println(\"right \", id, \" \", lane)\n",
    "            push!(laneIds, id)\n",
    "        end\n",
    "    end\n",
    "    println(laneIds)\n",
    "    numLanes = length(laneIds)\n",
    "    println(numLanes)\n",
    "    global simple = gen_straight_roadway(numLanes, r.length)\n",
    "end"
   ]
  },
  {
   "cell_type": "code",
   "execution_count": 62,
   "metadata": {},
   "outputs": [
    {
     "data": {
      "image/png": "[encoded data removed]",
      "text/plain": [
       "Cairo.CairoSurfaceIOStream{UInt32}(Ptr{Nothing} @0x00007fca5da117e0, 1000.0, 100.0, IOBuffer(data=UInt8[...], readable=true, writable=true, seekable=true, append=false, size=0, maxsize=Inf, ptr=1, mark=-1))"
      ]
     },
     "execution_count": 62,
     "metadata": {},
     "output_type": "execute_result"
    }
   ],
   "source": [
    "camera = StaticCamera(position=VecE2(100.0,0.0), zoom=4.75, canvas_height=100)\n",
    "snapshot = render([simple], camera=camera)"
   ]
  },
  {
   "cell_type": "code",
   "execution_count": null,
   "metadata": {},
   "outputs": [],
   "source": []
  }
 ],
 "metadata": {
  "@webio": {
   "lastCommId": null,
   "lastKernelId": null
  },
  "kernelspec": {
   "display_name": "Julia 1.4.0",
   "language": "julia",
   "name": "julia-1.4"
  },
  "language_info": {
   "file_extension": ".jl",
   "mimetype": "application/julia",
   "name": "julia",
   "version": "1.4.0"
  }
 },
 "nbformat": 4,
 "nbformat_minor": 4
}
